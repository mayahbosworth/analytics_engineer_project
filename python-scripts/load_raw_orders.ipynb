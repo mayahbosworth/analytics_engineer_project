{
 "cells": [
  {
   "cell_type": "code",
   "execution_count": null,
   "metadata": {},
   "outputs": [],
   "source": [
    "def load_raw_orders_csv():\n",
    "\n",
    "    try:\n",
    "        base_dir = os.path.abspath(os.path.join(os.getcwd(), '..'))\n",
    "        csv_path = os.path.join(base_dir, 'csv', 'orders.csv')\n",
    "\n",
    "        raw_orders = pd.read_csv(csv_path, encoding='utf-8')\n",
    "        print(\"Orders CSV loaded successfully.\")\n",
    "        return raw_orders\n",
    "\n",
    "    except FileNotFoundError:\n",
    "        raise FileNotFoundError(f\"CSV file not found at path: {csv_path}\")\n",
    "    except Exception as e:\n",
    "        raise Exception(f\"An unexpected error occurred: {e}\")"
   ]
  }
 ],
 "metadata": {
  "language_info": {
   "name": "python"
  }
 },
 "nbformat": 4,
 "nbformat_minor": 2
}
