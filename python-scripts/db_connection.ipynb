{
 "cells": [
  {
   "cell_type": "code",
   "execution_count": 1,
   "metadata": {},
   "outputs": [],
   "source": [
    "from dotenv import load_dotenv, find_dotenv"
   ]
  },
  {
   "cell_type": "code",
   "execution_count": 2,
   "metadata": {},
   "outputs": [],
   "source": [
    "def get_db_connection():\n",
    "\n",
    "    dotenv_path = find_dotenv()\n",
    "    if not dotenv_path:\n",
    "        raise FileNotFoundError(\".env file not found. Please ensure it exists in your project root.\")\n",
    "\n",
    "    load_dotenv(dotenv_path=dotenv_path)\n",
    "\n",
    "    DATABASE = os.getenv(\"DB_NAME\")\n",
    "    USER = os.getenv(\"DB_USER\")\n",
    "    PASSWORD = os.getenv(\"DB_PASSWORD\")\n",
    "    HOST = os.getenv(\"DB_HOST\")\n",
    "    PORT = os.getenv(\"DB_PORT\")\n",
    "\n",
    "    if not all([DATABASE, USER, PASSWORD, HOST, PORT]):\n",
    "        raise ValueError(\"Missing required database credentials in .env file.\")\n",
    "\n",
    "    try:\n",
    "        conn = psycopg2.connect(\n",
    "            database=DATABASE,\n",
    "            user=USER,\n",
    "            password=PASSWORD,\n",
    "            host=HOST,\n",
    "            port=PORT\n",
    "        )\n",
    "        print(\"Database connection successful.\")\n",
    "        return conn\n",
    "    except Exception as e:\n",
    "        raise Exception(f\"Error connecting to the database: {e}\")"
   ]
  }
 ],
 "metadata": {
  "kernelspec": {
   "display_name": "myenv",
   "language": "python",
   "name": "python3"
  },
  "language_info": {
   "codemirror_mode": {
    "name": "ipython",
    "version": 3
   },
   "file_extension": ".py",
   "mimetype": "text/x-python",
   "name": "python",
   "nbconvert_exporter": "python",
   "pygments_lexer": "ipython3",
   "version": "3.13.1"
  }
 },
 "nbformat": 4,
 "nbformat_minor": 2
}
