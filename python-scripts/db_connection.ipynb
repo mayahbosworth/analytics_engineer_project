{
 "cells": [
  {
   "cell_type": "code",
   "execution_count": null,
   "metadata": {},
   "outputs": [],
   "source": [
    "from dotenv import load_dotenv, find_dotenv"
   ]
  },
  {
   "cell_type": "code",
   "execution_count": null,
   "metadata": {},
   "outputs": [],
   "source": [
    "def get_db_connection():\n",
    "\n",
    "    dotenv_path = find_dotenv()\n",
    "    if not dotenv_path:\n",
    "        raise FileNotFoundError(\".env file not found. Please ensure it exists in your project root.\")\n",
    "\n",
    "    load_dotenv(dotenv_path=dotenv_path)\n",
    "\n",
    "    # Retrieve database credentials\n",
    "    DATABASE = os.getenv(\"DB_NAME\")\n",
    "    USER = os.getenv(\"DB_USER\")\n",
    "    PASSWORD = os.getenv(\"DB_PASSWORD\")\n",
    "    HOST = os.getenv(\"DB_HOST\")\n",
    "    PORT = os.getenv(\"DB_PORT\")\n",
    "\n",
    "    # Validate credentials\n",
    "    if not all([DATABASE, USER, PASSWORD, HOST, PORT]):\n",
    "        raise ValueError(\"Missing required database credentials in .env file.\")\n",
    "\n",
    "    try:\n",
    "        conn = psycopg2.connect(\n",
    "            database=DATABASE,\n",
    "            user=USER,\n",
    "            password=PASSWORD,\n",
    "            host=HOST,\n",
    "            port=PORT\n",
    "        )\n",
    "        print(\"Database connection successful.\")\n",
    "        return conn\n",
    "    except Exception as e:\n",
    "        raise Exception(f\"Error connecting to the database: {e}\")"
   ]
  }
 ],
 "metadata": {
  "language_info": {
   "name": "python"
  }
 },
 "nbformat": 4,
 "nbformat_minor": 2
}
