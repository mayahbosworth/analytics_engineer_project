{
 "cells": [
  {
   "cell_type": "code",
   "execution_count": 1,
   "metadata": {},
   "outputs": [],
   "source": [
    "def load_raw_customers_csv():\n",
    "\n",
    "    try:\n",
    "        base_dir = os.path.abspath(os.path.join(os.getcwd(), '..'))\n",
    "        csv_path = os.path.join(base_dir, 'csv', 'customers.csv')\n",
    "\n",
    "        raw_customers = pd.read_csv(csv_path, encoding='utf-16le')\n",
    "        print(\"Customers CSV loaded successfully.\")\n",
    "        return raw_customers\n",
    "\n",
    "    except FileNotFoundError:\n",
    "        raise FileNotFoundError(f\"CSV file not found at path: {csv_path}\")\n",
    "    except Exception as e:\n",
    "        raise Exception(f\"An unexpected error occurred: {e}\")"
   ]
  }
 ],
 "metadata": {
  "kernelspec": {
   "display_name": "myenv",
   "language": "python",
   "name": "python3"
  },
  "language_info": {
   "codemirror_mode": {
    "name": "ipython",
    "version": 3
   },
   "file_extension": ".py",
   "mimetype": "text/x-python",
   "name": "python",
   "nbconvert_exporter": "python",
   "pygments_lexer": "ipython3",
   "version": "3.13.1"
  }
 },
 "nbformat": 4,
 "nbformat_minor": 2
}
